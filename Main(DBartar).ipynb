{
  "nbformat": 4,
  "nbformat_minor": 0,
  "metadata": {
    "colab": {
      "provenance": []
    },
    "kernelspec": {
      "name": "python3",
      "display_name": "Python 3"
    },
    "language_info": {
      "name": "python"
    }
  },
  "cells": [
    {
      "cell_type": "code",
      "execution_count": 30,
      "metadata": {
        "colab": {
          "base_uri": "https://localhost:8080/"
        },
        "id": "TN76sKAZGFGR",
        "outputId": "67cdb0d0-70fe-43d0-e7c1-05e0a8f9c3e7"
      },
      "outputs": [
        {
          "output_type": "stream",
          "name": "stderr",
          "text": [
            "/usr/local/lib/python3.10/dist-packages/ipykernel/ipkernel.py:283: DeprecationWarning: `should_run_async` will not call `transform_cell` automatically in the future. Please pass the result to `transformed_cell` argument and any exception that happen during thetransform in `preprocessing_exc_tuple` in IPython 7.17 and above.\n",
            "  and should_run_async(code)\n"
          ]
        }
      ],
      "source": [
        "import warnings\n",
        "\n",
        "# Ignore DeprecationWarning\n",
        "warnings.filterwarnings(\"ignore\")"
      ]
    },
    {
      "cell_type": "code",
      "source": [
        "import numpy as np\n",
        "import pandas as pd\n",
        "import matplotlib as mtp"
      ],
      "metadata": {
        "id": "xj4Do9mCGNM2"
      },
      "execution_count": 31,
      "outputs": []
    },
    {
      "cell_type": "code",
      "source": [
        "from google.colab import drive\n",
        "\n",
        "# Mount Google Drive\n",
        "drive.mount('/content/drive')"
      ],
      "metadata": {
        "colab": {
          "base_uri": "https://localhost:8080/"
        },
        "id": "VYZyY8oSGO5P",
        "outputId": "71a45520-1362-4250-fe42-ffac18bfed88"
      },
      "execution_count": 32,
      "outputs": [
        {
          "output_type": "stream",
          "name": "stdout",
          "text": [
            "Drive already mounted at /content/drive; to attempt to forcibly remount, call drive.mount(\"/content/drive\", force_remount=True).\n"
          ]
        }
      ]
    },
    {
      "cell_type": "code",
      "source": [
        "df = pd.read_csv('/content/drive/MyDrive/invoices contained.csv')\n",
        "\n",
        "print(df.shape)\n",
        "print('-'*100)\n",
        "print(df.head())"
      ],
      "metadata": {
        "colab": {
          "base_uri": "https://localhost:8080/"
        },
        "id": "i4fgOCicGVVZ",
        "outputId": "38772759-bf96-45eb-c096-c87c93ac6560"
      },
      "execution_count": 33,
      "outputs": [
        {
          "output_type": "stream",
          "name": "stdout",
          "text": [
            "(15522, 8)\n",
            "----------------------------------------------------------------------------------------------------\n",
            "   customer_id  order_date  invoice_id  course_id  free    amount  \\\n",
            "0         6293  1402-05-11       49587         33     1  40000000   \n",
            "1    232379492  1402-05-11       49596          4     1  24900000   \n",
            "2    232379492  1402-05-11       49596          5     1   9900000   \n",
            "3    232390775  1402-05-11       49597          5     1   9900000   \n",
            "4    232369891  1402-05-11       49600         33     1  40000000   \n",
            "\n",
            "   discount_percent  payable_amount  \n",
            "0                56             0.0  \n",
            "1                56             0.0  \n",
            "2                56             0.0  \n",
            "3                56             0.0  \n",
            "4                56             0.0  \n"
          ]
        }
      ]
    },
    {
      "cell_type": "code",
      "source": [
        "# Specify the course IDs to remove\n",
        "courses_to_remove = [1, 3, 10, 11, 12, 29, 30, 31, 32, 200]\n",
        "\n",
        "# Filter the DataFrame to exclude rows with the specified course IDs\n",
        "df = df[~df['course_id'].isin(courses_to_remove)]"
      ],
      "metadata": {
        "id": "XKmfxs3mGd-8"
      },
      "execution_count": 34,
      "outputs": []
    },
    {
      "cell_type": "code",
      "source": [
        "# Calculate the number of unique 'order_date' items for each 'customer_id' and add 1 to each count\n",
        "unique_order_date_counts = df.groupby('customer_id')['order_date'].nunique()\n",
        "\n",
        "# Sort the results in descending order and get the top 5 customer IDs\n",
        "top_5_customers = unique_order_date_counts.sort_values(ascending=False).head(5)\n",
        "\n",
        "# Print the top 5 customer IDs and their counts of unique order dates\n",
        "print(top_5_customers)"
      ],
      "metadata": {
        "colab": {
          "base_uri": "https://localhost:8080/"
        },
        "id": "GBJPvwNFGjTh",
        "outputId": "a5b5fc57-9e6b-44bc-af1b-4c3ad0275a39"
      },
      "execution_count": 35,
      "outputs": [
        {
          "output_type": "stream",
          "name": "stdout",
          "text": [
            "customer_id\n",
            "232370734    5\n",
            "232333596    5\n",
            "232375939    5\n",
            "232370666    4\n",
            "232370665    4\n",
            "Name: order_date, dtype: int64\n"
          ]
        }
      ]
    },
    {
      "cell_type": "code",
      "source": [
        "# Count the unique customer IDs\n",
        "unique_customer_count = df['customer_id'].nunique()\n",
        "\n",
        "# Print the counts\n",
        "print(\"Total unique customer IDs:\", unique_customer_count)"
      ],
      "metadata": {
        "colab": {
          "base_uri": "https://localhost:8080/"
        },
        "id": "Op_5xlKlHsk6",
        "outputId": "a059d27e-edc8-4755-e752-9d3028c69dc1"
      },
      "execution_count": 36,
      "outputs": [
        {
          "output_type": "stream",
          "name": "stdout",
          "text": [
            "Total unique customer IDs: 6616\n"
          ]
        }
      ]
    },
    {
      "cell_type": "code",
      "source": [
        "not_free_courses = df[df['free'] == 0]\n",
        "\n",
        "# Count the occurrences of each unique course ID among the free courses\n",
        "course_counts = not_free_courses['course_id'].value_counts()\n",
        "\n",
        "# Print the top 5 course IDs and their counts\n",
        "top_5_not_free_courses = course_counts.head(5)\n",
        "print(\"Top 5 Courses Not Freely Given to Customers:\")\n",
        "print(top_5_not_free_courses)"
      ],
      "metadata": {
        "colab": {
          "base_uri": "https://localhost:8080/"
        },
        "id": "iif1FrS7G1dV",
        "outputId": "c4957220-309e-46c7-fa7e-0e78ba311fc0"
      },
      "execution_count": 37,
      "outputs": [
        {
          "output_type": "stream",
          "name": "stdout",
          "text": [
            "Top 5 Courses Not Freely Given to Customers:\n",
            "18    2202\n",
            "35    2089\n",
            "36    2064\n",
            "21    1111\n",
            "22    1110\n",
            "Name: course_id, dtype: int64\n"
          ]
        }
      ]
    },
    {
      "cell_type": "code",
      "source": [
        "unique_course_count = df['course_id'].nunique()\n",
        "\n",
        "# Print the count of unique course IDs\n",
        "print(\"Total unique course IDs:\", unique_course_count)"
      ],
      "metadata": {
        "colab": {
          "base_uri": "https://localhost:8080/"
        },
        "id": "OgoS0ZNMHlyk",
        "outputId": "9ee5cf0b-f844-43c7-df79-757c09f0d9a6"
      },
      "execution_count": 38,
      "outputs": [
        {
          "output_type": "stream",
          "name": "stdout",
          "text": [
            "Total unique course IDs: 24\n"
          ]
        }
      ]
    },
    {
      "cell_type": "code",
      "source": [
        "# Drop rows where 'free' is 1 (indicating a free course)\n",
        "df_paid = df[df['free'] == 0]\n",
        "\n",
        "# Create a transaction list with unique customer-bought course IDs\n",
        "transaction_list = df_paid.groupby('customer_id')['course_id'].unique().reset_index()\n",
        "\n",
        "# Print the first few rows of the transaction list\n",
        "print(transaction_list.head(5))\n",
        "\n",
        "print('-'*100)\n",
        "print(len(transaction_list))"
      ],
      "metadata": {
        "colab": {
          "base_uri": "https://localhost:8080/"
        },
        "id": "35HhE5XGHzyh",
        "outputId": "6d392360-c2df-4c63-b0e2-0f80e587019d"
      },
      "execution_count": 39,
      "outputs": [
        {
          "output_type": "stream",
          "name": "stdout",
          "text": [
            "   customer_id      course_id\n",
            "0            5            [2]\n",
            "1            6            [2]\n",
            "2           30       [21, 22]\n",
            "3           72         [9, 2]\n",
            "4           87  [4, 6, 2, 17]\n",
            "----------------------------------------------------------------------------------------------------\n",
            "6611\n"
          ]
        }
      ]
    },
    {
      "cell_type": "code",
      "source": [
        "# Drop the 'customer_id' column from the transaction list\n",
        "transaction_list = transaction_list['course_id']\n",
        "\n",
        "# Print the first few rows of the transaction list (now only containing 'course_id')\n",
        "print(transaction_list.head(5))"
      ],
      "metadata": {
        "colab": {
          "base_uri": "https://localhost:8080/"
        },
        "id": "D6kdGkiHIGfl",
        "outputId": "ff46bc9b-d830-4591-aae8-afeefcc4507c"
      },
      "execution_count": 40,
      "outputs": [
        {
          "output_type": "stream",
          "name": "stdout",
          "text": [
            "0              [2]\n",
            "1              [2]\n",
            "2         [21, 22]\n",
            "3           [9, 2]\n",
            "4    [4, 6, 2, 17]\n",
            "Name: course_id, dtype: object\n"
          ]
        }
      ]
    },
    {
      "cell_type": "code",
      "source": [
        "!pip install mlxtend\n"
      ],
      "metadata": {
        "id": "fHBduX_CId7_"
      },
      "execution_count": null,
      "outputs": []
    },
    {
      "cell_type": "code",
      "source": [
        "from mlxtend.frequent_patterns import apriori\n",
        "from mlxtend.frequent_patterns import association_rules"
      ],
      "metadata": {
        "id": "MIjUzqF2JLbi"
      },
      "execution_count": 44,
      "outputs": []
    },
    {
      "cell_type": "code",
      "source": [
        "# Define a range of values to search for min_support, min_threshold, and metric\n",
        "min_support_range = np.linspace(0.01, 0.1, 10)  # Adjust the range as needed\n",
        "min_threshold_range = [0.8, 0.85, 0.9, 0.95]  # Adjust the range as needed\n",
        "metric_list = ['lift', 'confidence']  # Experiment with other metrics if needed\n",
        "\n",
        "best_recommendation_package = None\n",
        "best_metrics = None\n",
        "best_min_support = None\n",
        "best_min_threshold = None\n",
        "\n",
        "for min_support in min_support_range:\n",
        "    for min_threshold in min_threshold_range:\n",
        "        for chosen_metric in metric_list:\n",
        "            # Convert the transaction list into a binary-encoded DataFrame\n",
        "            oht = transaction_list.apply(lambda x: pd.Series(1, index=x))\n",
        "            oht.fillna(0, inplace=True)\n",
        "\n",
        "            # Use Apriori to find frequent itemsets\n",
        "            frequent_itemsets = apriori(oht, min_support=min_support, use_colnames=True)\n",
        "\n",
        "            # Generate association rules with the chosen metric\n",
        "            rules = association_rules(frequent_itemsets, metric=chosen_metric, min_threshold=min_threshold)\n",
        "\n",
        "            # Sort the rules by the chosen metric in descending order\n",
        "            sorted_rules = rules.sort_values(by=[chosen_metric], ascending=False)\n",
        "\n",
        "            # Extract the top 4 recommended courses from the rules\n",
        "            top_courses = sorted_rules['antecedents'].explode().unique()[:4]\n",
        "\n",
        "            # Example criteria: Maximize confidence and lift while minimizing support\n",
        "            if best_recommendation_package is None or (chosen_metric == 'lift' and sorted_rules.shape[0] > best_metrics.shape[0]):\n",
        "                best_recommendation_package = top_courses\n",
        "                best_metrics = sorted_rules\n",
        "                best_min_support = min_support\n",
        "                best_min_threshold = min_threshold\n",
        "\n",
        "# Print the best recommendation package and its associated metrics\n",
        "print(\"Best Recommendation Package (Top 4 Courses):\")\n",
        "print(best_recommendation_package)\n",
        "print('-'*100)\n",
        "print(\"\\nBest Metrics (Rules):\")\n",
        "print(best_metrics)\n",
        "print('-'*100)\n",
        "print(\"\\nBest min_support:\", best_min_support)\n",
        "print('-'*100)\n",
        "print(\"Best min_threshold:\", best_min_threshold)"
      ],
      "metadata": {
        "colab": {
          "base_uri": "https://localhost:8080/"
        },
        "id": "wEZ-3oVJIlxJ",
        "outputId": "ad8ad265-bc1e-415b-c219-c7d7f3ecacca"
      },
      "execution_count": 45,
      "outputs": [
        {
          "output_type": "stream",
          "name": "stdout",
          "text": [
            "Best Recommendation Package (Top 4 Courses):\n",
            "[24 22 21 23]\n",
            "----------------------------------------------------------------------------------------------------\n",
            "\n",
            "Best Metrics (Rules):\n",
            "   antecedents consequents  antecedent support  consequent support   support  \\\n",
            "69    (24, 22)    (21, 23)            0.010135            0.010588  0.010135   \n",
            "70    (21, 23)    (24, 22)            0.010588            0.010135  0.010135   \n",
            "68    (24, 21)    (22, 23)            0.010286            0.010740  0.010135   \n",
            "71    (22, 23)    (24, 21)            0.010740            0.010286  0.010135   \n",
            "58    (36, 21)    (18, 22)            0.031463            0.027227  0.019362   \n",
            "..         ...         ...                 ...                 ...       ...   \n",
            "38        (18)    (36, 22)            0.331266            0.031765  0.019362   \n",
            "3         (36)        (18)            0.311299            0.331266  0.146574   \n",
            "2         (18)        (36)            0.331266            0.311299  0.146574   \n",
            "46        (18)    (35, 36)            0.331266            0.039782  0.018000   \n",
            "45    (35, 36)        (18)            0.039782            0.331266  0.018000   \n",
            "\n",
            "    confidence       lift  leverage  conviction  zhangs_metric  \n",
            "69    1.000000  94.442857  0.010027         inf       0.999542  \n",
            "70    0.957143  94.442857  0.010027   23.096859       1.000000  \n",
            "68    0.985294  91.743372  0.010024   67.269702       0.999380  \n",
            "71    0.943662  91.743372  0.010024   17.567426       0.999838  \n",
            "58    0.615385  22.601709  0.018505    2.529209       0.986803  \n",
            "..         ...        ...       ...         ...            ...  \n",
            "38    0.058447   1.839983  0.008839    1.028339       0.682658  \n",
            "3     0.470845   1.421351  0.043451    1.263778       0.430440  \n",
            "2     0.442466   1.421351  0.043451    1.235262       0.443292  \n",
            "46    0.054338   1.365885  0.004822    1.015392       0.400569  \n",
            "45    0.452471   1.365885  0.004822    1.221368       0.278972  \n",
            "\n",
            "[76 rows x 10 columns]\n",
            "----------------------------------------------------------------------------------------------------\n",
            "\n",
            "Best min_support: 0.01\n",
            "----------------------------------------------------------------------------------------------------\n",
            "Best min_threshold: 0.8\n"
          ]
        }
      ]
    },
    {
      "cell_type": "code",
      "source": [],
      "metadata": {
        "id": "R_C6dTFCI-wb"
      },
      "execution_count": 43,
      "outputs": []
    }
  ]
}